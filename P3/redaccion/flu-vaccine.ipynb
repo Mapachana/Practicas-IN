{
 "cells": [
  {
   "cell_type": "code",
   "execution_count": 1,
   "metadata": {},
   "outputs": [],
   "source": [
    "import torch\n",
    "import torch.nn as nn \n",
    "import torch.optim as optim\n",
    "import numpy as np\n",
    "import pandas as pd\n",
    "import matplotlib.pyplot as plt\n",
    "import seaborn as sns\n",
    "from collections import OrderedDict\n",
    "from sklearn.metrics import roc_curve, roc_auc_score"
   ]
  },
  {
   "cell_type": "markdown",
   "metadata": {},
   "source": [
    "# Vaccine data\n",
    "\n",
    "DataDriven competition. Try to predict the intake of two different vaccines, flu and H1N1, based on demographic data.\n",
    "\n",
    "https://www.drivendata.org/competitions/66/flu-shot-learning/\n",
    "\n",
    "## Data loading and formatting\n",
    "\n",
    "First step is to get all the data in a Pandas dataframe. We will format it in a way we can process easily all its information. Later, we will do a exploratory analysis on the Dataframe "
   ]
  },
  {
   "cell_type": "code",
   "execution_count": 14,
   "metadata": {},
   "outputs": [],
   "source": [
    "def read_and_format_data(path, read_labels=True):\n",
    "    \"\"\"\n",
    "    This function takes the CSV file designated by path and applies all the formatting we need,\n",
    "    changing the strings to qualitative numbers to make analysis easier\n",
    "    \"\"\"\n",
    "    \n",
    "    data = pd.read_csv(path + \"_features.csv\")\n",
    "    data.drop(columns=\"respondent_id\", inplace=True)\n",
    "\n",
    "    #If we are in the training set, append the solutions to the end of the file\n",
    "    if read_labels:\n",
    "        labels = pd.read_csv(path + \"_labels.csv\")\n",
    "        labels.drop(columns=\"respondent_id\", inplace=True)\n",
    "        data = pd.concat((data, labels), axis=1)\n",
    "    \n",
    "    # --- Create some dictionaries in order to change all strings for numerical integer identifiers\n",
    "    age_groups = {'18 - 34 Years': 0,\n",
    "                  '35 - 44 Years': 1,\n",
    "                  '45 - 54 Years': 2,\n",
    "                  '55 - 64 Years': 3,\n",
    "                  '65+ Years': 4}\n",
    "    \n",
    "    sex = {\"Female\": 0,\n",
    "           \"Male\": 1}\n",
    "    \n",
    "    race = {'White': 0,\n",
    "            'Black': 1,\n",
    "            'Other or Multiple': 2,\n",
    "            'Hispanic': 3}\n",
    "    \n",
    "    education = {'< 12 Years': 0,\n",
    "                 '12 Years': 1,\n",
    "                 'Some College': 2,\n",
    "                 'College Graduate': 3}\n",
    "    \n",
    "    income = {'Below Poverty': 0,\n",
    "              '<= $75,000, Above Poverty': 1,\n",
    "              '> $75,000': 2}\n",
    "\n",
    "    marital = {'Not Married': 0, \n",
    "               'Married': 1}\n",
    "    \n",
    "    rent = {'Own': 0, \n",
    "            'Rent': 1}\n",
    "    \n",
    "    labor = {'Not in Labor Force' : 0,\n",
    "             'Employed' : 1, \n",
    "             'Unemployed' : 2}\n",
    "    \n",
    "    msa = {'Non-MSA': 0, \n",
    "           'MSA, Not Principle  City': 1,\n",
    "           'MSA, Principle City': 2}\n",
    "    \n",
    "    #Do the same with the codes associated to industry and occupation. I will not do this by hand\n",
    "    industry = {}\n",
    "    j = 0\n",
    "    for code in data[\"employment_industry\"].unique():\n",
    "        if not pd.isna(code):\n",
    "            print(code,j)\n",
    "            industry[code] = j\n",
    "            j += 1    \n",
    "    \n",
    "    occupation = {}\n",
    "    j = 0\n",
    "    for code in data[\"employment_occupation\"].unique():\n",
    "        if not pd.isna(code):\n",
    "            print(code,j)\n",
    "            occupation[code] = j\n",
    "            j += 1    \n",
    "            \n",
    "    region = {}\n",
    "    j = 0\n",
    "    for code in data[\"hhs_geo_region\"].unique():\n",
    "        if not pd.isna(code):\n",
    "            region[code] = j\n",
    "            j += 1    \n",
    "    \n",
    "    #Then zip all dictionaries together with their correspondent labels...\n",
    "    dictionaries = [age_groups, education, sex, race, income, marital, rent, \n",
    "                    labor, industry, occupation, msa, region]\n",
    "    labels = [\"age_group\", \"education\", \"sex\", \"race\", \"income_poverty\", \"marital_status\", \n",
    "              \"rent_or_own\", \"employment_status\", \"employment_industry\", \"employment_occupation\",\n",
    "              \"census_msa\", \"hhs_geo_region\"]\n",
    "    \n",
    "    #...and use this to perform the actual replacements\n",
    "    for dic,lab in zip(dictionaries,labels):\n",
    "        for key in dic:\n",
    "            data[lab].replace(key, dic[key], inplace=True)\n",
    "            \n",
    "    \n",
    "    #Store which columns contain cualitative information (useful for later)\n",
    "    cualitative_cols = [\"age_group\", \"race\", \"education\", \"income_poverty\", \"employment_status\", \n",
    "                           \"employment_industry\", \"employment_occupation\", \"census_msa\", \"hhs_geo_region\"]\n",
    "    \n",
    "    #Store how many classes they store\n",
    "    nclasses = [len(dic) for dic in [age_groups, race, education, income, labor, industry, occupation, msa, region]]\n",
    "        \n",
    "    return data, cualitative_cols, nclasses\n",
    "\n",
    "\n",
    "def delete_rows_empty(df, labels, cols):\n",
    "    \"\"\"\n",
    "    Delete some rows with have simultaneously empty data in the selected columns\n",
    "    \"\"\"\n",
    "    \n",
    "    #Create a mask that is True in all rows that have simultaneously NAN in selected cols\n",
    "    mask = df[cols[0]].isna()\n",
    "    for c in cols[1:]:\n",
    "        mask = mask & df[c].isna()\n",
    "    \n",
    "    df = df[~mask] #Select it\n",
    "    labels = labels[~mask]\n",
    "\n",
    "    #Ensure correct indexing\n",
    "    df.reset_index(inplace=True)\n",
    "    df.drop(columns=\"index\", inplace=True)\n",
    "    \n",
    "    labels.reset_index(inplace=True)\n",
    "    labels.drop(columns=\"index\", inplace=True)\n",
    "    \n",
    "    return"
   ]
  },
  {
   "cell_type": "code",
   "execution_count": 15,
   "metadata": {},
   "outputs": [
    {
     "name": "stdout",
     "output_type": "stream",
     "text": [
      "pxcmvdjn 0\n",
      "rucpziij 1\n",
      "wxleyezf 2\n",
      "saaquncn 3\n",
      "xicduogh 4\n",
      "ldnlellj 5\n",
      "wlfvacwt 6\n",
      "nduyfdeo 7\n",
      "fcxhlnwr 8\n",
      "vjjrobsf 9\n",
      "arjwrbjb 10\n",
      "atmlpfrs 11\n",
      "msuufmds 12\n",
      "xqicxuve 13\n",
      "phxvnwax 14\n",
      "dotnnunm 15\n",
      "mfikgejo 16\n",
      "cfqqtusy 17\n",
      "mcubkhph 18\n",
      "haxffmxo 19\n",
      "qnlwzans 20\n",
      "xgwztkwe 0\n",
      "xtkaffoo 1\n",
      "emcorrxb 2\n",
      "vlluhbov 3\n",
      "xqwwgdyp 4\n",
      "ccgxvspp 5\n",
      "qxajmpny 6\n",
      "kldqjyjy 7\n",
      "mxkfnird 8\n",
      "hfxkjkmi 9\n",
      "bxpfxfdn 10\n",
      "ukymxvdu 11\n",
      "cmhcxjea 12\n",
      "haliazsg 13\n",
      "dlvbwzss 14\n",
      "xzmlyyjv 15\n",
      "oijqvulv 16\n",
      "rcertsgn 17\n",
      "tfqavkke 18\n",
      "hodpvpew 19\n",
      "uqqtjvyb 20\n",
      "pvmttkik 21\n",
      "dcjcmpih 22\n",
      "(26707, 37)\n",
      "Index(['h1n1_concern', 'h1n1_knowledge', 'behavioral_antiviral_meds',\n",
      "       'behavioral_avoidance', 'behavioral_face_mask', 'behavioral_wash_hands',\n",
      "       'behavioral_large_gatherings', 'behavioral_outside_home',\n",
      "       'behavioral_touch_face', 'doctor_recc_h1n1', 'doctor_recc_seasonal',\n",
      "       'chronic_med_condition', 'child_under_6_months', 'health_worker',\n",
      "       'health_insurance', 'opinion_h1n1_vacc_effective', 'opinion_h1n1_risk',\n",
      "       'opinion_h1n1_sick_from_vacc', 'opinion_seas_vacc_effective',\n",
      "       'opinion_seas_risk', 'opinion_seas_sick_from_vacc', 'age_group',\n",
      "       'education', 'race', 'sex', 'income_poverty', 'marital_status',\n",
      "       'rent_or_own', 'employment_status', 'hhs_geo_region', 'census_msa',\n",
      "       'household_adults', 'household_children', 'employment_industry',\n",
      "       'employment_occupation', 'h1n1_vaccine', 'seasonal_vaccine'],\n",
      "      dtype='object')\n",
      "Index(['opinion_h1n1_vacc_effective', 'opinion_h1n1_risk',\n",
      "       'opinion_h1n1_sick_from_vacc', 'opinion_seas_vacc_effective',\n",
      "       'opinion_seas_risk', 'opinion_seas_sick_from_vacc'],\n",
      "      dtype='object')\n",
      "Index(['behavioral_avoidance', 'behavioral_face_mask', 'behavioral_wash_hands',\n",
      "       'behavioral_large_gatherings', 'behavioral_outside_home'],\n",
      "      dtype='object')\n",
      "10 24 4\n"
     ]
    }
   ],
   "source": [
    "#Load the data and print shape and column names to ensure everything correct\n",
    "data, cualitative_cols, n_classes = read_and_format_data(\"datasets/vacunas/training_set\")\n",
    "\n",
    "print(data.shape)\n",
    "print(data.columns)\n",
    "\n",
    "print(data.iloc[:,15:21].columns)\n",
    "print(data.iloc[:,3:8].columns)\n",
    "print(data[\"hhs_geo_region\"].unique().size, \n",
    "      data[\"employment_occupation\"].unique().size, \n",
    "      data[\"employment_status\"].unique().size,\n",
    "     )"
   ]
  },
  {
   "cell_type": "markdown",
   "metadata": {},
   "source": [
    "# Data exploration\n",
    "Let us try to find some interesting stuff about the data itself. We will try first to get the correlation matrix for non-qualitative values. We will also use a very simple imputation (most common values) to avoid nan values. The matrix will be analysed through Louvain decomposition."
   ]
  },
  {
   "cell_type": "code",
   "execution_count": 4,
   "metadata": {},
   "outputs": [],
   "source": [
    "#Fill all NaN data with the most common value!\n",
    "data_nonan = data.apply(lambda x: x.fillna(x.value_counts().index[0]))"
   ]
  },
  {
   "cell_type": "code",
   "execution_count": 5,
   "metadata": {},
   "outputs": [
    {
     "name": "stdout",
     "output_type": "stream",
     "text": [
      "[ 0  1  2  3  4  5  6  7  8  9 10 11 12 13 14 15 16 17 18 19 20 21 22 23\n",
      " 24 25 26 27] 28 (28, 28)\n"
     ]
    },
    {
     "ename": "NameError",
     "evalue": "name 'data_cualitative' is not defined",
     "output_type": "error",
     "traceback": [
      "\u001b[0;31m---------------------------------------------------------------------------\u001b[0m",
      "\u001b[0;31mNameError\u001b[0m                                 Traceback (most recent call last)",
      "\u001b[0;32m<ipython-input-5-9632dc5ee5dd>\u001b[0m in \u001b[0;36m<module>\u001b[0;34m\u001b[0m\n\u001b[1;32m     13\u001b[0m \u001b[0mplt\u001b[0m\u001b[0;34m.\u001b[0m\u001b[0mfigure\u001b[0m\u001b[0;34m(\u001b[0m\u001b[0mfigsize\u001b[0m\u001b[0;34m=\u001b[0m\u001b[0;34m(\u001b[0m\u001b[0;36m10\u001b[0m\u001b[0;34m,\u001b[0m\u001b[0;36m10\u001b[0m\u001b[0;34m)\u001b[0m\u001b[0;34m)\u001b[0m\u001b[0;34m\u001b[0m\u001b[0;34m\u001b[0m\u001b[0m\n\u001b[1;32m     14\u001b[0m \u001b[0mplt\u001b[0m\u001b[0;34m.\u001b[0m\u001b[0mimshow\u001b[0m\u001b[0;34m(\u001b[0m\u001b[0mcovariance\u001b[0m\u001b[0;34m,\u001b[0m \u001b[0mvmin\u001b[0m\u001b[0;34m=\u001b[0m\u001b[0;34m-\u001b[0m\u001b[0;36m1\u001b[0m\u001b[0;34m,\u001b[0m \u001b[0mvmax\u001b[0m\u001b[0;34m=\u001b[0m\u001b[0;34m+\u001b[0m\u001b[0;36m1\u001b[0m\u001b[0;34m,\u001b[0m \u001b[0mcmap\u001b[0m\u001b[0;34m=\u001b[0m\u001b[0;34m\"coolwarm\"\u001b[0m\u001b[0;34m)\u001b[0m\u001b[0;34m\u001b[0m\u001b[0;34m\u001b[0m\u001b[0m\n\u001b[0;32m---> 15\u001b[0;31m \u001b[0mplt\u001b[0m\u001b[0;34m.\u001b[0m\u001b[0mxticks\u001b[0m\u001b[0;34m(\u001b[0m\u001b[0mticks\u001b[0m\u001b[0;34m,\u001b[0m \u001b[0mdata_cualitative\u001b[0m\u001b[0;34m.\u001b[0m\u001b[0mcolumns\u001b[0m\u001b[0;34m,\u001b[0m \u001b[0mrotation\u001b[0m\u001b[0;34m=\u001b[0m\u001b[0;36m45\u001b[0m\u001b[0;34m,\u001b[0m \u001b[0mha\u001b[0m\u001b[0;34m=\u001b[0m\u001b[0;34m'right'\u001b[0m\u001b[0;34m)\u001b[0m\u001b[0;34m\u001b[0m\u001b[0;34m\u001b[0m\u001b[0m\n\u001b[0m\u001b[1;32m     16\u001b[0m \u001b[0mplt\u001b[0m\u001b[0;34m.\u001b[0m\u001b[0myticks\u001b[0m\u001b[0;34m(\u001b[0m\u001b[0mticks\u001b[0m\u001b[0;34m,\u001b[0m \u001b[0mdata_cualitative\u001b[0m\u001b[0;34m.\u001b[0m\u001b[0mcolumns\u001b[0m\u001b[0;34m,\u001b[0m \u001b[0mrotation\u001b[0m\u001b[0;34m=\u001b[0m\u001b[0;34m\"horizontal\"\u001b[0m\u001b[0;34m)\u001b[0m\u001b[0;34m\u001b[0m\u001b[0;34m\u001b[0m\u001b[0m\n\u001b[1;32m     17\u001b[0m \u001b[0mplt\u001b[0m\u001b[0;34m.\u001b[0m\u001b[0mtight_layout\u001b[0m\u001b[0;34m(\u001b[0m\u001b[0;34m)\u001b[0m\u001b[0;34m\u001b[0m\u001b[0;34m\u001b[0m\u001b[0m\n",
      "\u001b[0;31mNameError\u001b[0m: name 'data_cualitative' is not defined"
     ]
    },
    {
     "data": {
      "image/png": "[encoded data removed]",
      "text/plain": [
       "<Figure size 720x720 with 1 Axes>"
      ]
     },
     "metadata": {
      "needs_background": "light"
     },
     "output_type": "display_data"
    }
   ],
   "source": [
    "import bct \n",
    "\n",
    "data_non_qualitative = data_nonan.drop(columns=cualitative_cols)\n",
    "covariance = data_non_qualitative.corr().values\n",
    "covariance = np.nan_to_num(covariance)\n",
    "\n",
    "ci,q = bct.modularity_louvain_und_sign(covariance)\n",
    "#ci,q = bct.modularity_probtune_und_sign(covariance, ci=ci)   \n",
    "bound, indsort = bct.grid_communities(ci)\n",
    "\n",
    "ticks = np.arange(data_non_qualitative.columns.size)\n",
    "print(ticks, indsort.size, covariance.shape)\n",
    "plt.figure(figsize=(10,10))\n",
    "plt.imshow(covariance, vmin=-1, vmax=+1, cmap=\"coolwarm\")\n",
    "plt.xticks(ticks, data_cualitative.columns, rotation=45, ha='right')\n",
    "plt.yticks(ticks, data_cualitative.columns, rotation=\"horizontal\")\n",
    "plt.tight_layout()\n",
    "plt.savefig(\"pearson_survey_order.pdf\", bbox_inches=\"tight\")\n",
    "plt.show()\n",
    "\n",
    "plt.figure(figsize=(10,10))\n",
    "plt.imshow(covariance[np.ix_(indsort, indsort)], cmap=\"coolwarm\", interpolation=\"None\", vmin=-1, vmax=1)\n",
    "for index in bound:\n",
    "    plt.axvline(index, color=\"#aaaaaa\")\n",
    "    plt.axhline(index, color=\"#aaaaaa\")\n",
    "plt.xticks(ticks, data_cualitative.columns[np.ix_(indsort)], rotation=45, ha='right')\n",
    "plt.yticks(ticks, data_cualitative.columns[np.ix_(indsort)], rotation=\"horizontal\")\n",
    "plt.savefig(\"pearson_louvain_order.pdf\", bbox_inches=\"tight\")\n",
    "plt.show()"
   ]
  },
  {
   "cell_type": "markdown",
   "metadata": {},
   "source": [
    "Let us analyse what is the best way to add values to the missing fields of the table. We will use information we already have on the table to make an educated guess to fill them and help the network as much as possible. \n",
    "\n",
    "First, let's find out which employment codes correspond to health workers (HW), as well as some demographic correlation from them. A fast analysis reveals that there can be HW in _any_ registered industry, and in all occupations except one. However, HW only constitute around 10% of our population. \n",
    "Let's see the demographic differences in works between HW and non-HW, if any..."
   ]
  },
  {
   "cell_type": "code",
   "execution_count": 8,
   "metadata": {},
   "outputs": [
    {
     "name": "stdout",
     "output_type": "stream",
     "text": [
      "% of HW: 0.1085483206649942\n"
     ]
    },
    {
     "data": {
      "image/png": "[encoded data removed]",
      "text/plain": [
       "<Figure size 720x288 with 1 Axes>"
      ]
     },
     "metadata": {
      "needs_background": "light"
     },
     "output_type": "display_data"
    },
    {
     "data": {
      "image/png": "[encoded data removed]",
      "text/plain": [
       "<Figure size 720x288 with 1 Axes>"
      ]
     },
     "metadata": {
      "needs_background": "light"
     },
     "output_type": "display_data"
    }
   ],
   "source": [
    "#Get who are health workers...\n",
    "health_workers = data[\"health_worker\"] == 1\n",
    "nhw = health_workers.sum()\n",
    "\n",
    "print(\"% of HW: {0}\".format(nhw / data.shape[0]))\n",
    "\n",
    "bins = np.arange(-0.5, n_classes[5]+0.5, 1.0)\n",
    "\n",
    "#And the unique indices associated with them. Which % of the dataset they make?\n",
    "industry_hw, _  = np.histogram(data[\"employment_industry\"][health_workers], bins=bins)\n",
    "industry_non_hw,_ = np.histogram(data[\"employment_industry\"][~health_workers], bins=bins)\n",
    "\n",
    "\n",
    "plt.figure(figsize=(10,4))\n",
    "bar_w = 0.4\n",
    "xaxis_l = bins[:-1] + 0.5 * (1 - bar_w)\n",
    "xaxis_r = bins[:-1] + 0.5 * (1 + bar_w)\n",
    "plt.bar(xaxis_l, industry_hw / np.max(industry_hw), width=bar_w, label=\"HW\")\n",
    "plt.bar(xaxis_r, industry_non_hw / np.max(industry_non_hw), width=bar_w, label=\"non-HW\")\n",
    "plt.xlabel(\"Work index\")\n",
    "plt.ylabel(\"Frequency\")\n",
    "plt.legend(loc=\"best\")\n",
    "plt.title(\"Industry\")\n",
    "plt.show()\n",
    "\n",
    "bins = np.arange(-0.5, n_classes[6]+0.5, 1.0)\n",
    "\n",
    "occupation_hw, _  = np.histogram(data[\"employment_occupation\"][health_workers], bins=bins)\n",
    "occupation_non_hw,_ = np.histogram(data[\"employment_occupation\"][~health_workers], bins=bins)\n",
    "\n",
    "plt.figure(figsize=(10,4))\n",
    "bar_w = 0.4\n",
    "xaxis_l = bins[:-1] + 0.5 * (1 - bar_w)\n",
    "xaxis_r = bins[:-1] + 0.5 * (1 + bar_w)\n",
    "plt.bar(xaxis_l, occupation_hw / np.max(occupation_hw), width=bar_w, label=\"HW\")\n",
    "plt.bar(xaxis_r, occupation_non_hw / np.max(occupation_non_hw), width=bar_w, label=\"non-HW\")\n",
    "plt.xlabel(\"Occupation index\")\n",
    "plt.ylabel(\"Frequency\")\n",
    "plt.legend(loc=\"best\")\n",
    "plt.title(\"Occupation\")\n",
    "plt.show()\n",
    "\n",
    "del industry_hw, industry_non_hw, occupation_hw, occupation_non_hw, bins, xaxis_l, xaxis_r"
   ]
  },
  {
   "cell_type": "markdown",
   "metadata": {},
   "source": [
    "Next step: we now know in what they work, then find how many of them are actually unemployed. Check also what is the correlation between employment, health insurance, and poverty risk.\n",
    "\n",
    "Quite a big amount of them are \"not in labor force\"... does it mean that they are retired? Or what?"
   ]
  },
  {
   "cell_type": "code",
   "execution_count": 9,
   "metadata": {},
   "outputs": [
    {
     "name": "stdout",
     "output_type": "stream",
     "text": [
      "% not employed HW: 15.039668851328043\n",
      "% not in labor HW: 12.969989651604001\n"
     ]
    },
    {
     "data": {
      "image/png": "[encoded data removed]",
      "text/plain": [
       "<Figure size 720x288 with 1 Axes>"
      ]
     },
     "metadata": {
      "needs_background": "light"
     },
     "output_type": "display_data"
    }
   ],
   "source": [
    "not_labor_employed_hw = (data[\"health_worker\"] == 1) & (data[\"employment_status\"] == 0)\n",
    "unemployed_hw = (data[\"health_worker\"] == 1) & (data[\"employment_status\"] == 2)\n",
    "\n",
    "total_not_working = not_labor_employed_hw.sum() +  unemployed_hw.sum()\n",
    "\n",
    "print(\"% not employed HW: {0}\".format(100* total_not_working / nhw))\n",
    "print(\"% not in labor HW: {0}\".format(100* not_labor_employed_hw.sum() / nhw))\n",
    "\n",
    "age_not_labor = data[\"age_group\"][not_labor_employed_hw]\n",
    "age_unemp = data[\"age_group\"][unemployed_hw]\n",
    "\n",
    "bins = np.arange(-0.5, 5.5, 1.0)\n",
    "\n",
    "age_not_labor, _  = np.histogram(age_not_labor, bins=bins)\n",
    "age_unemp, _ = np.histogram(age_unemp, bins=bins)\n",
    "\n",
    "plt.figure(figsize=(10,4))\n",
    "bar_w = 0.4\n",
    "xaxis_l = bins[:-1] + 0.5 * (1 - bar_w)\n",
    "xaxis_r = bins[:-1] + 0.5 * (1 + bar_w)\n",
    "plt.bar(xaxis_l, age_not_labor, width=bar_w, label=\"Not labor\")\n",
    "plt.bar(xaxis_r, age_unemp, width=bar_w, label=\"Unemployed\")\n",
    "plt.xlabel(\"Age group\")\n",
    "plt.ylabel(\"Frequency\")\n",
    "plt.title(\"Age of unemployed HW\")\n",
    "plt.legend(loc=\"best\")\n",
    "plt.show()\n",
    "\n",
    "del not_labor_employed_hw, unemployed_hw, total_not_working, age_not_labor, age_unemp, _"
   ]
  },
  {
   "cell_type": "markdown",
   "metadata": {},
   "source": [
    "Then, most of the HW which are \"not in labor force\" seem retired, followed by a large portion of students. Unemployed are evenly distributed, with worse situation for people around 50yo. \n",
    "\n",
    "Is this typical of HW, or is it something that happens at all levels? Let's check the age in general for the unemployed groups"
   ]
  },
  {
   "cell_type": "code",
   "execution_count": 6,
   "metadata": {},
   "outputs": [
    {
     "name": "stdout",
     "output_type": "stream",
     "text": [
      "% not employed: 42.09383307747033\n",
      "% not in labor: 36.87797206724829\n"
     ]
    },
    {
     "data": {
      "image/png": "[encoded data removed]",
      "text/plain": [
       "<Figure size 720x288 with 1 Axes>"
      ]
     },
     "metadata": {
      "needs_background": "light"
     },
     "output_type": "display_data"
    }
   ],
   "source": [
    "not_labor_employed=  (data[\"health_worker\"] == 0) & (data[\"employment_status\"] == 0)\n",
    "unemployed = (data[\"health_worker\"] == 0) & (data[\"employment_status\"] == 2)\n",
    "\n",
    "total_not_working = not_labor_employed.sum() +  unemployed.sum()\n",
    "\n",
    "print(\"% not employed: {0}\".format(100* total_not_working / data.shape[0]))\n",
    "print(\"% not in labor: {0}\".format(100* not_labor_employed.sum() / data.shape[0]))\n",
    "\n",
    "age_not_labor = data[\"age_group\"][not_labor_employed]\n",
    "age_unemp = data[\"age_group\"][unemployed]\n",
    "\n",
    "bins = np.arange(-0.5, 5.5, 1.0)\n",
    "\n",
    "age_not_labor, _  = np.histogram(age_not_labor, bins=bins)\n",
    "age_unemp, _ = np.histogram(age_unemp, bins=bins)\n",
    "\n",
    "plt.figure(figsize=(10,4))\n",
    "bar_w = 0.4\n",
    "xaxis_l = bins[:-1] + 0.5 * (1 - bar_w)\n",
    "xaxis_r = bins[:-1] + 0.5 * (1 + bar_w)\n",
    "plt.bar(xaxis_l, age_not_labor, width=bar_w, label=\"Not labor\")\n",
    "plt.bar(xaxis_r, age_unemp, width=bar_w, label=\"Unemployed\")\n",
    "plt.xlabel(\"Age group\")\n",
    "plt.ylabel(\"Frequency\")\n",
    "plt.title(\"Age of unemployed General\")\n",
    "plt.legend(loc=\"best\")\n",
    "plt.show()\n",
    "\n",
    "del not_labor_employed, unemployed, total_not_working, age_not_labor, age_unemp, bins"
   ]
  },
  {
   "cell_type": "markdown",
   "metadata": {},
   "source": [
    "Qualitatively the same, but the tendency for retired people is way larger most people \"not in labor force\" are retired. The unemployed situation did not change so much. \n",
    "Let's do a final one with ALL the demographics, including also the age distributions of people actually working. "
   ]
  },
  {
   "cell_type": "code",
   "execution_count": 7,
   "metadata": {},
   "outputs": [
    {
     "data": {
      "image/png": "[encoded data removed]",
      "text/plain": [
       "<Figure size 720x288 with 1 Axes>"
      ]
     },
     "metadata": {
      "needs_background": "light"
     },
     "output_type": "display_data"
    }
   ],
   "source": [
    "not_labor_employed= (data[\"employment_status\"] == 0)\n",
    "employed = (data[\"employment_status\"] == 1)\n",
    "unemployed = (data[\"employment_status\"] == 2)\n",
    "\n",
    "age_not_labor = data[\"age_group\"][not_labor_employed]\n",
    "age_emplo = data[\"age_group\"][employed]\n",
    "age_unemp = data[\"age_group\"][unemployed]\n",
    "\n",
    "bins = np.arange(-0.5, 5.5, 1.0)\n",
    "\n",
    "age_not_labor, _  = np.histogram(age_not_labor, bins=bins)\n",
    "age_emplo, _  = np.histogram(age_emplo, bins=bins)\n",
    "age_unemp, _ = np.histogram(age_unemp, bins=bins)\n",
    "\n",
    "plt.figure(figsize=(10,4))\n",
    "bar_w = 0.2\n",
    "xaxis_l = bins[:-1] + 0.5 - bar_w\n",
    "xaxis_c = bins[:-1] + 0.5 \n",
    "xaxis_r = bins[:-1] + 0.5 + bar_w\n",
    "plt.bar(xaxis_l, age_emplo, width=bar_w, label=\"Employed\")\n",
    "plt.bar(xaxis_c, age_not_labor, width=bar_w, label=\"Not labor\")\n",
    "plt.bar(xaxis_r, age_unemp, width=bar_w, label=\"Unemployed\")\n",
    "plt.xlabel(\"Age group\")\n",
    "plt.ylabel(\"Frequency\")\n",
    "plt.title(\"Age of workers\")\n",
    "plt.legend(loc=\"best\")\n",
    "plt.show()\n",
    "\n",
    "del not_labor_employed, unemployed, age_not_labor, age_unemp, bins, employed, age_emplo"
   ]
  },
  {
   "cell_type": "markdown",
   "metadata": {},
   "source": [
    "Unemployement seems low for  age groups <55yo, and then it suddenly increases. On the other hand, there is a bunch of students in the first group. Ok, so let's take a look to these two sensitive group. How much money they make? Do they have healthcare?"
   ]
  },
  {
   "cell_type": "code",
   "execution_count": 254,
   "metadata": {},
   "outputs": [
    {
     "name": "stdout",
     "output_type": "stream",
     "text": [
      "% Healthcare total: 47.54184296251919\n",
      "% Healthcare employed: 49.269911504424776\n",
      "% Healthcare NOT employed: 45.75948885677341\n",
      "% Healthcare OLD: 14.000074886733815\n",
      "% Healthcare YOUNG: 7.900550417493541\n"
     ]
    },
    {
     "data": {
      "image/png": "[encoded data removed]",
      "text/plain": [
       "<Figure size 720x288 with 1 Axes>"
      ]
     },
     "metadata": {
      "needs_background": "light"
     },
     "output_type": "display_data"
    }
   ],
   "source": [
    "old_people = data[\"age_group\"] == 4\n",
    "young_people = data[\"age_group\"] == 0\n",
    "\n",
    "has_insurance = data[\"health_insurance\"] == 1\n",
    "employed = (data[\"employment_status\"] == 1)\n",
    "\n",
    "print(\"% Healthcare total: {0}\".format( 100*(has_insurance).sum() /data.shape[0]))\n",
    "print(\"% Healthcare employed: {0}\".format( 100*(has_insurance & employed).sum() / employed.sum()))\n",
    "print(\"% Healthcare NOT employed: {0}\".format( 100*(has_insurance & ~employed).sum() / (~employed).sum()))\n",
    "\n",
    "print(\"% Healthcare OLD: {0}\".format( 100*(old_people & has_insurance).sum() /data.shape[0]))\n",
    "print(\"% Healthcare YOUNG: {0}\".format( 100*(young_people & has_insurance).sum() /data.shape[0]))\n",
    "\n",
    "plt.figure(figsize=(10,4))\n",
    "\n",
    "nbars = 5\n",
    "half = nbars // 2\n",
    "bins = np.arange(-0.5, 3.5, 1.0)\n",
    "bar_w = 0.1\n",
    "\n",
    "for bar in range(nbars):\n",
    "    filter_age = data[\"age_group\"] == bar\n",
    "    income,_ = np.histogram(data[\"income_poverty\"][filter_age], bins=bins)\n",
    "    xaxis = bins[:-1] + 0.5 + (bar-half) *bar_w\n",
    "    plt.bar(xaxis, income, width=bar_w, label=bar)\n",
    "plt.xlabel(\"Age group\")\n",
    "plt.ylabel(\"Frequency\")\n",
    "plt.title(\"Age of workers\")\n",
    "plt.legend(loc=\"best\")\n",
    "plt.show()\n",
    "\n",
    "del old_people, young_people, has_insurance, employed, bins, filter_age, income"
   ]
  },
  {
   "cell_type": "markdown",
   "metadata": {},
   "source": [
    "The amount of people that does _not_ have healthcare is actually very worrisome. Even for the employed people, % is never higher than 50%. However it seems that unemployed people have it in the same amount. \n",
    "This could be a relevant point: if you don't have healthcare, _could your doctor recommend anything to you?_. If you don't have insurance, can you be diagnosed with chronic illnesses? Probably the combined effect of this variables has a huge impact on vaccination. Check it! \n",
    "\n",
    "Problem: there is MANY blank entries on health insurance, which coudl be a relevant variable. Let see if we can find where are those, correlating with age and employment."
   ]
  },
  {
   "cell_type": "code",
   "execution_count": 295,
   "metadata": {},
   "outputs": [
    {
     "data": {
      "image/png": "[encoded data removed]",
      "text/plain": [
       "<Figure size 720x288 with 1 Axes>"
      ]
     },
     "metadata": {
      "needs_background": "light"
     },
     "output_type": "display_data"
    },
    {
     "data": {
      "image/png": "[encoded data removed]",
      "text/plain": [
       "<Figure size 720x288 with 1 Axes>"
      ]
     },
     "metadata": {
      "needs_background": "light"
     },
     "output_type": "display_data"
    },
    {
     "data": {
      "image/png": "[encoded data removed]",
      "text/plain": [
       "<Figure size 720x288 with 1 Axes>"
      ]
     },
     "metadata": {
      "needs_background": "light"
     },
     "output_type": "display_data"
    },
    {
     "data": {
      "image/png": "[encoded data removed]",
      "text/plain": [
       "<Figure size 720x288 with 1 Axes>"
      ]
     },
     "metadata": {
      "needs_background": "light"
     },
     "output_type": "display_data"
    },
    {
     "data": {
      "image/png": "[encoded data removed]",
      "text/plain": [
       "<Figure size 720x288 with 1 Axes>"
      ]
     },
     "metadata": {
      "needs_background": "light"
     },
     "output_type": "display_data"
    },
    {
     "data": {
      "image/png": "[encoded data removed]",
      "text/plain": [
       "<Figure size 720x288 with 1 Axes>"
      ]
     },
     "metadata": {
      "needs_background": "light"
     },
     "output_type": "display_data"
    }
   ],
   "source": [
    "blank_insurance = data[\"health_insurance\"].isna()\n",
    "bins = np.arange(-0.5, 5.5, 1.0)\n",
    "\n",
    "dist_blank, _  = np.histogram(data[\"age_group\"][blank_insurance], bins=bins)\n",
    "\n",
    "plt.figure(figsize=(10,4))\n",
    "bar_w = 0.5\n",
    "xaxis = bins[:-1] + 0.5 \n",
    "plt.bar(xaxis, dist_blank/np.max(dist_blank), width=bar_w, label=\"Not labor\")\n",
    "plt.xlabel(\"Age group\")\n",
    "plt.ylabel(\"Frequency\")\n",
    "plt.title(\"Where insurance missing?\")\n",
    "plt.legend(loc=\"best\")\n",
    "plt.show()\n",
    "\n",
    "bins = np.arange(-0.5, 3.5, 1.0)\n",
    "\n",
    "dist_blank, _  = np.histogram(data[\"employment_status\"][blank_insurance], bins=bins)\n",
    "\n",
    "plt.figure(figsize=(10,4))\n",
    "bar_w = 0.5\n",
    "xaxis = bins[:-1] + 0.5 \n",
    "plt.bar(xaxis, dist_blank/np.max(dist_blank), width=bar_w, label=\"Not labor\")\n",
    "plt.xlabel(\"Employment\")\n",
    "plt.ylabel(\"Frequency\")\n",
    "plt.title(\"Where insurance missing?\")\n",
    "plt.legend(loc=\"best\")\n",
    "plt.show()\n",
    "\n",
    "\n",
    "dist_blank, _  = np.histogram(data[\"seasonal_vaccine\"][blank_insurance], bins=bins)\n",
    "\n",
    "plt.figure(figsize=(10,4))\n",
    "bar_w = 0.5\n",
    "xaxis = bins[:-1] + 0.5 \n",
    "plt.bar(xaxis, dist_blank/np.max(dist_blank), width=bar_w, label=\"Not labor\")\n",
    "plt.xlabel(\"Employment\")\n",
    "plt.ylabel(\"Frequency\")\n",
    "plt.title(\"Where insurance missing?\")\n",
    "plt.legend(loc=\"best\")\n",
    "plt.show()\n",
    "\n",
    "\n",
    "with_insurance = data[\"health_insurance\"] == 1\n",
    "\n",
    "bins = np.arange(-0.5, 5.5, 1.0)\n",
    "\n",
    "dist_blank, _  = np.histogram(data[\"age_group\"][with_insurance], bins=bins)\n",
    "\n",
    "plt.figure(figsize=(10,4))\n",
    "bar_w = 0.5\n",
    "xaxis = bins[:-1] + 0.5 \n",
    "plt.bar(xaxis, dist_blank/np.max(dist_blank), width=bar_w, label=\"Not labor\")\n",
    "plt.xlabel(\"Age group\")\n",
    "plt.ylabel(\"Frequency\")\n",
    "plt.title(\"Where insurance missing?\")\n",
    "plt.legend(loc=\"best\")\n",
    "plt.show()\n",
    "\n",
    "bins = np.arange(-0.5, 3.5, 1.0)\n",
    "\n",
    "dist_blank, _  = np.histogram(data[\"employment_status\"][with_insurance], bins=bins)\n",
    "\n",
    "plt.figure(figsize=(10,4))\n",
    "bar_w = 0.5\n",
    "xaxis = bins[:-1] + 0.5 \n",
    "plt.bar(xaxis, dist_blank/np.max(dist_blank), width=bar_w, label=\"Not labor\")\n",
    "plt.xlabel(\"Employment\")\n",
    "plt.ylabel(\"Frequency\")\n",
    "plt.title(\"Where insurance missing?\")\n",
    "plt.legend(loc=\"best\")\n",
    "plt.show()\n",
    "\n",
    "dist_blank, _  = np.histogram(data[\"seasonal_vaccine\"][blank_insurance], bins=bins)\n",
    "\n",
    "plt.figure(figsize=(10,4))\n",
    "bar_w = 0.5\n",
    "xaxis = bins[:-1] + 0.5 \n",
    "plt.bar(xaxis, dist_blank/np.max(dist_blank), width=bar_w, label=\"Not labor\")\n",
    "plt.xlabel(\"Employment\")\n",
    "plt.ylabel(\"Frequency\")\n",
    "plt.title(\"Where insurance missing?\")\n",
    "plt.legend(loc=\"best\")\n",
    "plt.show()\n"
   ]
  },
  {
   "cell_type": "code",
   "execution_count": null,
   "metadata": {},
   "outputs": [],
   "source": []
  },
  {
   "cell_type": "code",
   "execution_count": 88,
   "metadata": {},
   "outputs": [
    {
     "name": "stdout",
     "output_type": "stream",
     "text": [
      "1463\n",
      "1250\n"
     ]
    },
    {
     "data": {
      "image/png": "[encoded data removed]",
      "text/plain": [
       "<Figure size 720x288 with 1 Axes>"
      ]
     },
     "metadata": {
      "needs_background": "light"
     },
     "output_type": "display_data"
    }
   ],
   "source": [
    "blank_insurance = data[\"employment_status\"].isna()\n",
    "bins = np.arange(-0.5, 5.5, 1.0)\n",
    "\n",
    "print(data[\"employment_status\"].isna().sum())\n",
    "print((data[\"employment_status\"].isna() & data[\"education\"].isna()).sum())\n",
    "\n",
    "dist_blank, _  = np.histogram(data[\"rent_or_own\"][blank_insurance], bins=bins, density=True)\n",
    "\n",
    "plt.figure(figsize=(10,4))\n",
    "bar_w = 0.5\n",
    "xaxis = bins[:-1] + 0.5 \n",
    "plt.bar(xaxis, dist_blank, width=bar_w, label=\"Not labor\")\n",
    "plt.xlabel(\"Age group\")\n",
    "plt.ylabel(\"Frequency\")\n",
    "plt.title(\"Where insurance missing?\")\n",
    "plt.legend(loc=\"best\")\n",
    "plt.show()"
   ]
  },
  {
   "cell_type": "code",
   "execution_count": null,
   "metadata": {},
   "outputs": [],
   "source": []
  },
  {
   "cell_type": "markdown",
   "metadata": {},
   "source": [
    "# Model implementation\n",
    "Here we implement a neural network to try to do the classification thing. \n",
    "\n",
    "First step is Torch tensor setup. We will \n",
    "\n",
    "1. Create input and target tensors, and get the indices of the columns that need to be one-hotted.\n",
    "2. Define a function to create such onehots\n",
    "3. Apply the function to generate the onehots and append them to the input tensor. Then, finally, delete the original columns which are no longer needed."
   ]
  },
  {
   "cell_type": "code",
   "execution_count": 88,
   "metadata": {},
   "outputs": [
    {
     "name": "stdout",
     "output_type": "stream",
     "text": [
      "torch.Size([26707, 35]) torch.Size([26707, 2])\n"
     ]
    }
   ],
   "source": [
    "#Time has come\n",
    "\n",
    "#Create input and target\n",
    "inpt = torch.from_numpy(data_nonan.iloc[:,:-2].values)\n",
    "target = torch.from_numpy(data_nonan.iloc[:,-2:].values)\n",
    "\n",
    "print(inpt.shape, target.shape)\n",
    "\n",
    "#Get the indices that correspond to the cualitative columns\n",
    "cualitative_indices = torch.tensor([data.columns.get_loc(c) for c in cualitative_cols]).long()"
   ]
  },
  {
   "cell_type": "code",
   "execution_count": 89,
   "metadata": {},
   "outputs": [],
   "source": [
    "def create_onehot(column, n_classes):\n",
    "    \"\"\"\n",
    "    This function creates a one-hot vector given a column\n",
    "    \"\"\"\n",
    "    \n",
    "    column_onehot = torch.zeros(column.shape[0], n_classes)\n",
    "    return column_onehot.scatter(index=column.unsqueeze(1).long(),value=1,dim=1)"
   ]
  },
  {
   "cell_type": "code",
   "execution_count": 90,
   "metadata": {},
   "outputs": [
    {
     "name": "stdout",
     "output_type": "stream",
     "text": [
      "torch.Size([26707, 111])\n",
      "torch.Size([26707, 102])\n"
     ]
    }
   ],
   "source": [
    "#Apply the function above to create one-hot vectors\n",
    "for cl,index in enumerate(cualitative_indices):\n",
    "    one_hot_col = create_onehot(inpt[:,index], n_classes[cl])\n",
    "    inpt = torch.cat((inpt,one_hot_col), 1)\n",
    "    \n",
    "print(inpt.shape)\n",
    "\n",
    "#Create a mask which is \"false\" on the cualitative indices \n",
    "mask = torch.zeros(inpt.shape[1])\n",
    "mask = ~mask.scatter(dim=0, index=cualitative_indices, value=1).bool()\n",
    "\n",
    "#Apply the mask and reshape the result to get the final input vector...\n",
    "nrows = inpt.shape[0]\n",
    "inpt = torch.masked_select(inpt,mask).reshape(nrows, -1)\n",
    "print(inpt.shape)"
   ]
  },
  {
   "cell_type": "markdown",
   "metadata": {},
   "source": [
    "Now our input is ready. Let's work out the target. The idea is to set up 4 different classes, 00, 10, 01 and 11, so we need also one-hot vectors for all of this.\n",
    "\n",
    "Finally, we will generate the train and test datasets and we're done"
   ]
  },
  {
   "cell_type": "code",
   "execution_count": 91,
   "metadata": {},
   "outputs": [],
   "source": [
    "#Target is a 2-column vector with 0 or 1 that can be represented as binary (0-3) easily\n",
    "target = (target[:,0] + 2 * target[:,1]).long()\n",
    "\n",
    "#This function goes again from binary representation to two-column\n",
    "def target_to_cols(target_tensor):\n",
    "    first_digit = target_tensor.remainder(2)\n",
    "    second_digit = target_tensor // 2\n",
    "    \n",
    "    return torch.stack((first_digit, second_digit), dim=1)"
   ]
  },
  {
   "cell_type": "code",
   "execution_count": 92,
   "metadata": {},
   "outputs": [],
   "source": [
    "shuffled = torch.randperm(nrows)\n",
    "\n",
    "n_test = int(0.2*nrows) #Use 20% as test set\n",
    "train_ind = shuffled[:-n_test]\n",
    "test_ind = shuffled[-n_test:]\n",
    "\n",
    "#Get train and test data as views, as well as target results\n",
    "#Set to float because in other case, model complains...\n",
    "train_data = inpt[train_ind].float()\n",
    "target_train = target[train_ind].long()\n",
    "\n",
    "test_data = inpt[test_ind].float()\n",
    "target_test = target[test_ind].long()"
   ]
  },
  {
   "cell_type": "markdown",
   "metadata": {},
   "source": [
    "Once input and target have been finally computed, the next step is to do the classification model. We will use the following design:\n",
    "\n",
    "1. The output of the network will be the probability of belonging to one of the classes. There is 4 classes, corresponding to vaccinated to none, one, or both vaccines: 00, 01, 10, and 11.\n",
    "\n",
    "2. Error will be computed in the following way: once the probabilities are computed, the class is identified with the most probable class, and then the error is given by the mean square difference.\n",
    "\n",
    "3. Once the model is trained and probabilities for the test set computed, since DataDriven challenge expects to have probs of both vaccines separately, these are computed from the p(H1N1, FLU) mass distribution. "
   ]
  },
  {
   "cell_type": "code",
   "execution_count": 102,
   "metadata": {},
   "outputs": [
    {
     "name": "stdout",
     "output_type": "stream",
     "text": [
      "Sequential(\n",
      "  (h_lin): Linear(in_features=102, out_features=10, bias=True)\n",
      "  (h_tanh): ReLU()\n",
      "  (out_lin): Linear(in_features=10, out_features=4, bias=True)\n",
      "  (softmax): LogSoftmax(dim=1)\n",
      ")\n",
      "h_lin.weight torch.Size([10, 102])\n",
      "h_lin.bias torch.Size([10])\n",
      "out_lin.weight torch.Size([4, 10])\n",
      "out_lin.bias torch.Size([4])\n"
     ]
    }
   ],
   "source": [
    "#Create the simples model ever, using as input the number of columns of the input\n",
    "model = nn.Sequential(OrderedDict([\n",
    "    (\"h_lin\", nn.Linear(inpt.shape[1], 10)), \n",
    "    (\"h_tanh\", nn.ReLU()),\n",
    "    (\"out_lin\", nn.Linear(10, 4)),\n",
    "    (\"softmax\", nn.LogSoftmax(dim=1))]))\n",
    "\n",
    "print(model)\n",
    "for (name,param) in model.named_parameters():\n",
    "    print(name, param.shape)"
   ]
  },
  {
   "cell_type": "code",
   "execution_count": 95,
   "metadata": {},
   "outputs": [],
   "source": [
    "def training_loop_with_test(n_epochs, optimizer, model, loss_fn, train_data, y_data, test_data, y_test):\n",
    "    \n",
    "    for epoch in range(1, n_epochs + 1):\n",
    "        train_predict = model(train_data)\n",
    "        train_loss = loss_fn(train_predict, y_data)\n",
    "        \n",
    "        with torch.no_grad():\n",
    "            test_predict = model(test_data)\n",
    "            test_loss = loss_fn(test_predict, y_test)\n",
    "        \n",
    "        optimizer.zero_grad()\n",
    "        train_loss.backward()\n",
    "        optimizer.step()\n",
    "        \n",
    "        if epoch <= 3 or epoch % 500 == 0:\n",
    "            print(f\"Epoch {epoch}, Training loss {train_loss.item():.4f},\"\n",
    "            f\" Validation loss {test_loss.item():.4f}\")\n",
    "    return \n",
    "\n",
    "def training_loop(n_epochs, optimizer, model, loss_fn, train_data, y_data):\n",
    "    \n",
    "    for epoch in range(1, n_epochs + 1):\n",
    "        train_predict = model(train_data)\n",
    "        train_loss = loss_fn(train_predict, y_data)\n",
    "        \n",
    "        optimizer.zero_grad()\n",
    "        train_loss.backward()\n",
    "        optimizer.step()\n",
    "        \n",
    "        if epoch <= 3 or epoch % 500 == 0:\n",
    "            print(f\"Epoch {epoch}, Training loss {train_loss.item():.4f}.\")\n",
    "    return "
   ]
  },
  {
   "cell_type": "code",
   "execution_count": 105,
   "metadata": {},
   "outputs": [
    {
     "name": "stdout",
     "output_type": "stream",
     "text": [
      "Epoch 1, Training loss 0.7948.\n",
      "Epoch 2, Training loss 0.7942.\n",
      "Epoch 3, Training loss 0.7939.\n",
      "Epoch 500, Training loss 0.7936.\n",
      "Epoch 1000, Training loss 0.7935.\n"
     ]
    }
   ],
   "source": [
    "learning_rate = 0.01\n",
    "optimizer = optim.SGD(model.parameters(), lr=learning_rate, momentum=0.0)\n",
    "\n",
    "training_loop(n_epochs=1000, optimizer=optimizer, model=model, loss_fn=nn.NLLLoss(), \n",
    "              train_data=train_data, y_data=target_train)"
   ]
  },
  {
   "cell_type": "code",
   "execution_count": 106,
   "metadata": {},
   "outputs": [
    {
     "name": "stdout",
     "output_type": "stream",
     "text": [
      "Accuracy: 67.59033966064453%\n",
      "AUC: 0.7399904969527469\n"
     ]
    },
    {
     "name": "stderr",
     "output_type": "stream",
     "text": [
      "<ipython-input-91-9be30c59ebeb>:7: UserWarning: __floordiv__ is deprecated, and its behavior will change in a future version of pytorch. It currently rounds toward 0 (like the 'trunc' function NOT 'floor'). This results in incorrect rounding for negative values. To keep the current behavior, use torch.div(a, b, rounding_mode='trunc'), or for actual floor division, use torch.div(a, b, rounding_mode='floor').\n",
      "  second_digit = target_tensor // 2\n"
     ]
    }
   ],
   "source": [
    "with torch.no_grad():\n",
    "    _, pred = torch.max(model(test_data), dim=1)\n",
    "    correct = (pred == target_test).sum()\n",
    "\n",
    "roc_auc = roc_auc_score(target_to_cols(target_test), target_to_cols(pred), average=\"macro\")\n",
    "print(\"Accuracy: {0}%\".format(100*correct / test_data.shape[0]))\n",
    "print(\"AUC: {0}\".format(roc_auc))\n"
   ]
  },
  {
   "cell_type": "code",
   "execution_count": null,
   "metadata": {},
   "outputs": [],
   "source": []
  },
  {
   "cell_type": "code",
   "execution_count": 44,
   "metadata": {},
   "outputs": [
    {
     "name": "stdout",
     "output_type": "stream",
     "text": [
      "tensor(2)\n",
      "tensor(2)\n",
      "\n",
      "tensor(0)\n",
      "tensor(0)\n",
      "\n",
      "tensor(0)\n",
      "tensor(0)\n",
      "\n",
      "tensor(3)\n",
      "tensor(0)\n",
      "\n",
      "tensor(2)\n",
      "tensor(3)\n",
      "\n",
      "tensor(0)\n",
      "tensor(0)\n",
      "\n",
      "tensor(0)\n",
      "tensor(0)\n",
      "\n",
      "tensor(2)\n",
      "tensor(2)\n",
      "\n",
      "tensor(0)\n",
      "tensor(3)\n",
      "\n",
      "tensor(0)\n",
      "tensor(0)\n",
      "\n",
      "tensor(2)\n",
      "tensor(2)\n",
      "\n",
      "tensor(0)\n",
      "tensor(0)\n",
      "\n",
      "tensor(0)\n",
      "tensor(0)\n",
      "\n",
      "tensor(3)\n",
      "tensor(3)\n",
      "\n",
      "tensor(3)\n",
      "tensor(3)\n",
      "\n",
      "tensor(2)\n",
      "tensor(2)\n",
      "\n",
      "tensor(0)\n",
      "tensor(0)\n",
      "\n",
      "tensor(3)\n",
      "tensor(2)\n",
      "\n",
      "tensor(0)\n",
      "tensor(0)\n",
      "\n",
      "tensor(0)\n",
      "tensor(0)\n",
      "\n"
     ]
    }
   ],
   "source": [
    "for check in torch.arange(20):\n",
    "    print(torch.argmax(model(train_data)[check]))\n",
    "    print(target_train[check])\n",
    "    print(\"\")"
   ]
  },
  {
   "cell_type": "code",
   "execution_count": null,
   "metadata": {},
   "outputs": [],
   "source": [
    "#TODO: use the negative log loss, passing the correct arguments \n",
    "#to loss function (array of probabilities + label of the correct class) and check how it improves."
   ]
  }
 ],
 "metadata": {
  "kernelspec": {
   "display_name": "Python 3",
   "language": "python",
   "name": "python3"
  },
  "language_info": {
   "codemirror_mode": {
    "name": "ipython",
    "version": 3
   },
   "file_extension": ".py",
   "mimetype": "text/x-python",
   "name": "python",
   "nbconvert_exporter": "python",
   "pygments_lexer": "ipython3",
   "version": "3.8.5"
  }
 },
 "nbformat": 4,
 "nbformat_minor": 4
}
